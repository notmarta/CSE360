{
 "cells": [
  {
   "cell_type": "markdown",
   "metadata": {},
   "source": [
    "# Val and Marta's Final Project\n",
    "## CSE360/460\n",
    "\n",
    "### Frisbee-Catching Robot"
   ]
  },
  {
   "cell_type": "code",
   "execution_count": 1,
   "metadata": {},
   "outputs": [
    {
     "name": "stdout",
     "output_type": "stream",
     "text": [
      "Populating the interactive namespace from numpy and matplotlib\n"
     ]
    }
   ],
   "source": [
    "import sim\n",
    "%pylab inline"
   ]
  },
  {
   "cell_type": "code",
   "execution_count": 9,
   "metadata": {},
   "outputs": [],
   "source": [
    "class robot():\n",
    "    \n",
    "    def __init__(self, frame_name, motor_names=[], client_id=0):  \n",
    "        # If there is an existing connection\n",
    "        if client_id:\n",
    "                self.client_id = client_id\n",
    "        else:\n",
    "            self.client_id = self.open_connection()\n",
    "            \n",
    "        self.motors = self._get_handlers(motor_names) \n",
    "        \n",
    "        # Robot frame\n",
    "        self.frame =  self._get_handler(frame_name)\n",
    "            \n",
    "        \n",
    "    def open_connection(self):\n",
    "        sim.simxFinish(-1)  # just in case, close all opened connections\n",
    "        self.client_id = sim.simxStart('127.0.0.1', 19999, True, True, 5000, 5)  # Connect to CoppeliaSim \n",
    "        \n",
    "        if clientID != -1:\n",
    "            print('Robot connected')\n",
    "        else:\n",
    "            print('Connection failed')\n",
    "        return clientID\n",
    "        \n",
    "    def close_connection(self):    \n",
    "        sim.simxGetPingTime(self.client_id)  # Before closing the connection to CoppeliaSim, make sure that the last command sent out had time to arrive.\n",
    "        sim.simxFinish(self.client_id)  # Now close the connection to CoppeliaSim:\n",
    "        print('Connection closed')\n",
    "    \n",
    "    def isConnected(self):\n",
    "        c,result = sim.simxGetPingTime(self.client_id)\n",
    "        # Return true if the robot is connected\n",
    "        return result > 0         \n",
    "        \n",
    "    def _get_handler(self, name):\n",
    "        err_code, handler = sim.simxGetObjectHandle(self.client_id, name, sim.simx_opmode_blocking)\n",
    "        return handler\n",
    "    \n",
    "    def _get_handlers(self, names):\n",
    "        handlers = []\n",
    "        for name in names:\n",
    "            handler = self._get_handler(name)\n",
    "            handlers.append(handler)\n",
    "        \n",
    "        return handlers\n",
    "\n",
    "    def send_motor_velocities(self, vels):\n",
    "        for motor, vel in zip(self.motors, vels):\n",
    "            err_code = sim.simxSetJointTargetVelocity(self.client_id, \n",
    "                                                      motor, vel, sim.simx_opmode_streaming)      \n",
    "            \n",
    "    def set_position(self, position, relative_object=-1):\n",
    "        if relative_object != -1:\n",
    "            relative_object = self._get_handler(relative_object)        \n",
    "        sim.simxSetObjectPosition(clientID, self.frame, relative_object, position, sim.simx_opmode_oneshot)\n",
    "        \n",
    "    def simtime(self):\n",
    "        return sim.simxGetLastCmdTime(self.client_id)\n",
    "    \n",
    "    def get_position(self, relative_object=-1):\n",
    "        # Get position relative to an object, -1 for global frame\n",
    "        if relative_object != -1:\n",
    "            relative_object = self._get_handler(relative_object)\n",
    "        res, position = sim.simxGetObjectPosition(self.client_id, self.frame, relative_object, sim.simx_opmode_blocking)        \n",
    "        return array(position)\n",
    "    \n",
    "    def get_object_position(self, object_name):\n",
    "        # Get Object position in the world frame\n",
    "        err_code, object_h = sim.simxGetObjectHandle(self.client_id, object_name, sim.simx_opmode_blocking)\n",
    "        res, position = sim.simxGetObjectPosition(self.client_id, object_h, -1, sim.simx_opmode_blocking)\n",
    "        return array(position)\n",
    "    \n",
    "    def get_object_relative_position(self, object_name):        \n",
    "        # Get Object position in the robot frame\n",
    "        err_code, object_h = sim.simxGetObjectHandle(self.client_id, object_name, sim.simx_opmode_blocking)\n",
    "        res, position = sim.simxGetObjectPosition(self.client_id, object_h, self.frame, sim.simx_opmode_blocking)\n",
    "        return array(position)\n",
    "    "
   ]
  },
  {
   "cell_type": "code",
   "execution_count": 10,
   "metadata": {},
   "outputs": [],
   "source": [
    "# For finding the coefficients for splines, in order to move the frisbee\n",
    "def point_to_point_traj(x1, x2, v1, v2, delta_t):\n",
    "    # the following is finding each coefficient for the spline\n",
    "    a0 = x1\n",
    "    a1 = v1\n",
    "    a2 = (3*x2 - 3*x1 - 2*v1*delta_t - v2 * delta_t) / (delta_t**2)\n",
    "    a3 = (2*x1 + (v1 + v2) * delta_t  - 2 * x2) / (delta_t**3)\n",
    "    return a0, a1, a2, a3\n"
   ]
  },
  {
   "cell_type": "code",
   "execution_count": 4,
   "metadata": {},
   "outputs": [
    {
     "ename": "NameError",
     "evalue": "name 'sim' is not defined",
     "output_type": "error",
     "traceback": [
      "\u001b[1;31m---------------------------------------------------------------------------\u001b[0m",
      "\u001b[1;31mNameError\u001b[0m                                 Traceback (most recent call last)",
      "\u001b[1;32m<ipython-input-4-f2c9a03f1ebf>\u001b[0m in \u001b[0;36m<module>\u001b[1;34m\u001b[0m\n\u001b[0;32m      4\u001b[0m \u001b[1;32mimport\u001b[0m \u001b[0mnumpy\u001b[0m \u001b[1;32mas\u001b[0m \u001b[0mnp\u001b[0m\u001b[1;33m\u001b[0m\u001b[1;33m\u001b[0m\u001b[0m\n\u001b[0;32m      5\u001b[0m \u001b[1;32mfrom\u001b[0m \u001b[0mrandom\u001b[0m \u001b[1;32mimport\u001b[0m \u001b[1;33m*\u001b[0m \u001b[1;31m# for random numbers\u001b[0m\u001b[1;33m\u001b[0m\u001b[1;33m\u001b[0m\u001b[0m\n\u001b[1;32m----> 6\u001b[1;33m \u001b[0mclientID\u001b[0m \u001b[1;33m=\u001b[0m \u001b[0msim\u001b[0m\u001b[1;33m.\u001b[0m\u001b[0msimxStart\u001b[0m\u001b[1;33m(\u001b[0m\u001b[1;34m'127.0.0.1'\u001b[0m\u001b[1;33m,\u001b[0m \u001b[1;36m19999\u001b[0m\u001b[1;33m,\u001b[0m \u001b[1;32mTrue\u001b[0m\u001b[1;33m,\u001b[0m \u001b[1;32mTrue\u001b[0m\u001b[1;33m,\u001b[0m \u001b[1;36m5000\u001b[0m\u001b[1;33m,\u001b[0m \u001b[1;36m5\u001b[0m\u001b[1;33m)\u001b[0m  \u001b[1;31m# Connect to CoppeliaSim\u001b[0m\u001b[1;33m\u001b[0m\u001b[1;33m\u001b[0m\u001b[0m\n\u001b[0m\u001b[0;32m      7\u001b[0m \u001b[1;33m\u001b[0m\u001b[0m\n\u001b[0;32m      8\u001b[0m \u001b[1;31m# Move the frisbee\u001b[0m\u001b[1;33m\u001b[0m\u001b[1;33m\u001b[0m\u001b[1;33m\u001b[0m\u001b[0m\n",
      "\u001b[1;31mNameError\u001b[0m: name 'sim' is not defined"
     ]
    }
   ],
   "source": [
    "import sim as vrep\n",
    "import time\n",
    "import cv2\n",
    "import numpy as np\n",
    "from random import * # for random numbers\n",
    "clientID = sim.simxStart('127.0.0.1', 19999, True, True, 5000, 5)  # Connect to CoppeliaSim\n",
    "\n",
    "# Move the frisbee\n",
    "disc = robot('Sphere')\n",
    "\n",
    "# Create trajectory for disc \n",
    "random_num = 0\n",
    "#randint(0, 2)  # pick a number between 0 and 2\n",
    "\n",
    "# TODO: Fix trajectories to be what we want (can be done anytime)\n",
    "if random_num == 0:\n",
    "    x_i, x_f, vx_i, vx_f = 1.2, 0.5, 0.1, 0.1\n",
    "    y_i, y_f, vy_i, vy_f = -4.4, 5.5, 0.2, 0.2\n",
    "    z_i, z_f, vz_i, vz_f = 3, 1.5, -0.5, -0.5\n",
    "elif random_num == 1:\n",
    "    x_i, x_f, vx_i, vx_f = 0, 0, 0, 0\n",
    "    y_i, y_f, vy_i, vy_f = 0, 0, 0, 0\n",
    "    z_i, z_f, vz_i, vz_f = 0, 0, 0, 0\n",
    "elif random_num == 2:\n",
    "    x_i, x_f, vx_i, vx_f = 0, 0, 0, 0\n",
    "    y_i, y_f, vy_i, vy_f = 0, 0, 0, 0\n",
    "    z_i, z_f, vz_i, vz_f = 0, 0, 0, 0\n",
    "    \n",
    "a0x, a1x, a2x, a3x = point_to_point_traj(x_i, x_f, vx_i, vx_f, 20)\n",
    "a0y, a1y, a2y, a3y = point_to_point_traj(y_i, y_f, vy_i, vy_f, 20)\n",
    "a0z, a1z, a2z, a3z = point_to_point_traj(z_i, z_f, vz_i, vz_f, 20)\n",
    "\n",
    "# Time interval\n",
    "time_steps = linspace(0, 20, 200)\n",
    "\n",
    "res, v1 = vrep.simxGetObjectHandle(clientID, 'Vision_sensor', vrep.simx_opmode_oneshot_wait)\n",
    "print ('Getting first image')\n",
    "err, resolution, image = vrep.simxGetVisionSensorImage(clientID, v1, 0, vrep.simx_opmode_streaming)\n",
    "orientations = []\n",
    "images = []\n",
    "\n",
    "for t in time_steps:\n",
    "    tx, ty, tz = a0x + a1x * t + a2x * t**2 + a3x * t**3, a0y + a1y * t + a2y * t**2 + a3y * t**3, a0z + a1z * t + a2z * t**2 + a3z * t**3\n",
    "    disc.set_position([tx, ty, tz])\n",
    "    \n",
    "    err, resolution, image = vrep.simxGetVisionSensorImage(clientID, v1, 0, vrep.simx_opmode_buffer)\n",
    "    orientation = vrep.simxGetObjectOrientation(clientID, v1, -1, vrep.simx_opmode_blocking)[1][1]\n",
    "    orientations.append(orientation)\n",
    "\n",
    "    img = np.array(image,dtype=np.uint8)\n",
    "    img.resize([resolution[1],resolution[0],3])\n",
    "    images.append(img)\n",
    "    imshow(img)\n",
    "    time.sleep(0.1)\n"
   ]
  },
  {
   "cell_type": "code",
   "execution_count": 2,
   "metadata": {},
   "outputs": [
    {
     "ename": "SyntaxError",
     "evalue": "invalid syntax (<ipython-input-2-ffe674bcd107>, line 21)",
     "output_type": "error",
     "traceback": [
      "\u001b[1;36m  File \u001b[1;32m\"<ipython-input-2-ffe674bcd107>\"\u001b[1;36m, line \u001b[1;32m21\u001b[0m\n\u001b[1;33m    elif err == vrep.simx_return_novalue_flag:\u001b[0m\n\u001b[1;37m    ^\u001b[0m\n\u001b[1;31mSyntaxError\u001b[0m\u001b[1;31m:\u001b[0m invalid syntax\n"
     ]
    }
   ],
   "source": [
    "\n",
    "\n",
    "if clientID!=-1:\n",
    "    # Handler for the camera\n",
    "    res, v1 = vrep.simxGetObjectHandle(clientID, 'Vision_sensor', vrep.simx_opmode_oneshot_wait)\n",
    "    print ('Getting first image')\n",
    "    err, resolution, image = vrep.simxGetVisionSensorImage(clientID, v1, 0, vrep.simx_opmode_streaming)\n",
    "    orientations = []\n",
    "    images = []\n",
    "    err, resolution, image = vrep.simxGetVisionSensorImage(clientID, v1, 0, vrep.simx_opmode_buffer)\n",
    "    orientation = vrep.simxGetObjectOrientation(clientID, v1, -1, vrep.simx_opmode_blocking)[1][1]\n",
    "    orientations.append(orientation)\n",
    "    if err == vrep.simx_return_ok:\n",
    "        print (\"image %d OK!!!\"%i)\n",
    "        img = np.array(image,dtype=np.uint8)\n",
    "        img.resize([resolution[1],resolution[0],3])\n",
    "        images.append(img)\n",
    "        imshow(img)\n",
    "        i+=1\n",
    "        if cv2.waitKey(1) & 0xFF == ord('q'):\n",
    "            break\n",
    "\n",
    "            \n",
    "        elif err == vrep.simx_return_novalue_flag:\n",
    "            print (\"no image yet\")\n",
    "            pass\n",
    "        else:\n",
    "            print (err)\n",
    "            time.sleep(1)\n",
    "        \n",
    "else:\n",
    "    print (\"Failed to connect to remote API Server\")\n",
    "    vrep.simxFinish(clientID)"
   ]
  },
  {
   "cell_type": "code",
   "execution_count": null,
   "metadata": {},
   "outputs": [],
   "source": []
  },
  {
   "cell_type": "code",
   "execution_count": null,
   "metadata": {},
   "outputs": [],
   "source": []
  }
 ],
 "metadata": {
  "kernelspec": {
   "display_name": "Python 3",
   "language": "python",
   "name": "python3"
  },
  "language_info": {
   "codemirror_mode": {
    "name": "ipython",
    "version": 3
   },
   "file_extension": ".py",
   "mimetype": "text/x-python",
   "name": "python",
   "nbconvert_exporter": "python",
   "pygments_lexer": "ipython3",
   "version": "3.8.6"
  }
 },
 "nbformat": 4,
 "nbformat_minor": 4
}
