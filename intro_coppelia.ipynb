{
 "cells": [
  {
   "cell_type": "markdown",
   "metadata": {},
   "source": [
    "# CoppeliaSim: Python interface\n",
    "### Setup\n",
    "Make sure you have following files in your directory, in order to run the various examples:\n",
    "\n",
    "1. sim.py and simConst.py in coppelia's folder ```programming/remoteApiBindings/python/python\n",
    "2. the appropriate remote API library: \"remoteApi.dll\" (Windows), \"remoteApi.dylib\" (Mac) or \"remoteApi.so\" (Linux). In coppelia's folder ```programming/remoteApiBindings/lib/lib/\n",
    "\n",
    "\n",
    "### Before executing\n",
    "\n",
    "\n",
    "\n",
    "* Make sure to have the server side running in CoppeliaSim.\n",
    "\n",
    "* In a child script of a CoppeliaSim scene, add following command to be executed just once, at simulation start:\n",
    "```python\n",
    "simRemoteApi.start(19999)\n",
    "```\n",
    "\n",
    "* then start simulation, and run this program.\n",
    "\n",
    "* For each successful call to simxStart, there should be a corresponding call to simxFinish at the end!\n",
    "\n",
    "\n",
    "### Tutorials\n",
    "* Python tutorial: http://34.208.13.223/VREP/04PythonTutorial/\n",
    "* CoppeliaSim tutorial: https://www.youtube.com/playlist?list=PLjzuoBhdtaXOoqkJUqhYQletLLnJP8vjZ\n",
    "* API Documentation: https://www.coppeliarobotics.com/helpFiles/en/remoteApiFunctionsPython.htm\n",
    "\n",
    "# Scene\n",
    "For testing purposes, you can use the file of the class: three_robots.ttt.\n",
    "However, I recommend to start with an empty scene and add the robots.\n"
   ]
  },
  {
   "cell_type": "code",
   "execution_count": 2,
   "metadata": {},
   "outputs": [
    {
     "name": "stdout",
     "output_type": "stream",
     "text": [
      "Populating the interactive namespace from numpy and matplotlib\n"
     ]
    }
   ],
   "source": [
    "# Import the python library that connects to CoppeliaSim, the file is sim.py.\n",
    "try:\n",
    "    import sim\n",
    "except:\n",
    "    print('--------------------------------------------------------------')\n",
    "    print('\"sim.py\" could not be imported. This means very probably that')\n",
    "    print('either \"sim.py\" or the remoteApi library could not be found.')\n",
    "    print('Make sure both are in the same folder as this file,')\n",
    "    print('or appropriately adjust the file \"sim.py\"')\n",
    "    print('--------------------------------------------------------------')\n",
    "    print('')\n",
    "\n",
    "import time\n",
    "\n",
    "%pylab inline"
   ]
  },
  {
   "cell_type": "markdown",
   "metadata": {},
   "source": [
    "### Check if python is connecting to Coppelia"
   ]
  },
  {
   "cell_type": "code",
   "execution_count": 3,
   "metadata": {},
   "outputs": [
    {
     "name": "stdout",
     "output_type": "stream",
     "text": [
      "Program started\n",
      "Connected to remote API server\n",
      "Program ended\n"
     ]
    }
   ],
   "source": [
    "print('Program started')\n",
    "sim.simxFinish(-1)  # just in case, close all opened connections\n",
    "clientID = sim.simxStart('127.0.0.1', 19999, True, True, 5000, 5)  # Connect to CoppeliaSim\n",
    "\n",
    "if clientID != -1:\n",
    "    print('Connected to remote API server')\n",
    "\n",
    "    # Now try to retrieve data in a blocking fashion (i.e. a service call):\n",
    "    res, objs = sim.simxGetObjects(clientID, sim.sim_handle_all, sim.simx_opmode_blocking)\n",
    "\n",
    "    # Before closing the connection to CoppeliaSim, make sure that the last command sent out had time to arrive. You can guarantee this with (for example):\n",
    "    sim.simxGetPingTime(clientID)\n",
    "\n",
    "    # Now close the connection to CoppeliaSim:\n",
    "    sim.simxFinish(clientID)\n",
    "else:\n",
    "    print('Failed connecting to remote API server')\n",
    "print('Program ended')"
   ]
  },
  {
   "cell_type": "markdown",
   "metadata": {},
   "source": [
    "# Controlling motors\n",
    "\n",
    "1. Add a Pioneer_p3dx robot.\n",
    "2. Remove its Lua script.\n",
    "3. Start the remote API server\n",
    "4. Send a control command with the following script"
   ]
  },
  {
   "cell_type": "code",
   "execution_count": 12,
   "metadata": {},
   "outputs": [
    {
     "name": "stdout",
     "output_type": "stream",
     "text": [
      "Program started\n",
      "Connected to remote API server\n",
      "Program ended\n"
     ]
    }
   ],
   "source": [
    "# Actuator names\n",
    "left_motor_name = \"Pioneer_p3dx_leftMotor\"\n",
    "right_motor_name = \"Pioneer_p3dx_rightMotor\"\n",
    "\n",
    "# Values to send  (rad/sec)\n",
    "left_velocity = -1.0\n",
    "right_velocity = 1.0\n",
    "\n",
    "\n",
    "# Send the command!\n",
    "print('Program started')\n",
    "sim.simxFinish(-1)  # just in case, close all opened connections\n",
    "clientID = sim.simxStart('127.0.0.1', 19999, True, True, 5000, 5)  # Connect to CoppeliaSim\n",
    "\n",
    "if clientID != -1:\n",
    "    print('Connected to remote API server')\n",
    "\n",
    "    # Now try to retrieve data in a blocking fashion (i.e. a service call):\n",
    "    res, objs = sim.simxGetObjects(clientID, sim.sim_handle_all, sim.simx_opmode_blocking)\n",
    "    \n",
    "    # Get handlers or actuators\n",
    "    err_code, l_motor_handle = sim.simxGetObjectHandle(clientID, left_motor_name, sim.simx_opmode_blocking)\n",
    "    err_code, r_motor_handle = sim.simxGetObjectHandle(clientID, right_motor_name, sim.simx_opmode_blocking)\n",
    "\n",
    "    # Send the values!\n",
    "    err_code = sim.simxSetJointTargetVelocity(clientID, l_motor_handle, left_velocity, sim.simx_opmode_streaming)\n",
    "    err_code = sim.simxSetJointTargetVelocity(clientID, r_motor_handle, right_velocity, sim.simx_opmode_streaming)\n",
    "\n",
    "    # Before closing the connection to CoppeliaSim, make sure that the last command sent out had time to arrive. You can guarantee this with (for example):\n",
    "    sim.simxGetPingTime(clientID)\n",
    "\n",
    "    # Now close the connection to CoppeliaSim:\n",
    "    sim.simxFinish(clientID)\n",
    "else:\n",
    "    print('Failed connecting to remote API server')\n",
    "print('Program ended')"
   ]
  },
  {
   "cell_type": "markdown",
   "metadata": {},
   "source": [
    "# Object oriented programming"
   ]
  },
  {
   "cell_type": "code",
   "execution_count": 4,
   "metadata": {},
   "outputs": [],
   "source": [
    "class robot():\n",
    "    \n",
    "    def __init__(self, motor_names, frame_name=None):        \n",
    "        self.client_id = self.open_connection()\n",
    "        self.motors = self._get_handlers(motor_names) \n",
    "        \n",
    "        # Robot frame\n",
    "        self.frame =  None\n",
    "        if frame_name is not None:\n",
    "            self.frame = self._get_handler(frame_name)\n",
    "            \n",
    "        \n",
    "    def open_connection(self):\n",
    "        sim.simxFinish(-1)  # just in case, close all opened connections\n",
    "        self.client_id = sim.simxStart('127.0.0.1', 19999, True, True, 5000, 5)  # Connect to CoppeliaSim \n",
    "        \n",
    "        if clientID != -1:\n",
    "            print('Robot connected')\n",
    "        else:\n",
    "            print('Connection failed')\n",
    "        return clientID\n",
    "        \n",
    "    def close_connection(self):    \n",
    "        sim.simxGetPingTime(self.client_id)  # Before closing the connection to CoppeliaSim, make sure that the last command sent out had time to arrive.\n",
    "        sim.simxFinish(self.client_id)  # Now close the connection to CoppeliaSim:\n",
    "        print('Connection closed')\n",
    "    \n",
    "    def isConnected(self):\n",
    "        c,result = sim.simxGetPingTime(self.client_id)\n",
    "        # Return true if the robot is connected\n",
    "        return result > 0         \n",
    "        \n",
    "    def _get_handler(self, name):\n",
    "        err_code, handler = sim.simxGetObjectHandle(self.client_id, name, sim.simx_opmode_blocking)\n",
    "        return handler\n",
    "    \n",
    "    def _get_handlers(self, names):\n",
    "        handlers = []\n",
    "        for name in names:\n",
    "            handler = self._get_handler(name)\n",
    "            handlers.append(handler)\n",
    "        \n",
    "        return handlers\n",
    "\n",
    "    def send_motor_velocities(self, vels):\n",
    "        for motor, vel in zip(self.motors, vels):\n",
    "            err_code = sim.simxSetJointTargetVelocity(self.client_id, \n",
    "                                                      motor, vel, sim.simx_opmode_streaming)      \n",
    "            \n",
    "    def set_position(self, position, relative_object):\n",
    "        relative_handle = self._get_handler(relative_object)\n",
    "        sim.simxSetObjectPosition(clientID, self.frame, relative_handle, position, sim.simx_opmode_oneshot)"
   ]
  },
  {
   "cell_type": "code",
   "execution_count": null,
   "metadata": {},
   "outputs": [],
   "source": [
    "# Joint names in coppelia for KUKA omnidirectional robot\n",
    "motor_names = ['Omnirob_FLwheel_motor', 'Omnirob_FRwheel_motor', 'Omnirob_RRwheel_motor', 'Omnirob_RLwheel_motor']\n",
    "\n",
    "\n",
    "r = robot(motor_names)  # Create an instance of our robot\n",
    "# r.send_motor_velocities([1., -1., -1., 1.])  # Move the robot\n",
    "\n",
    "r.close_connection()  # End"
   ]
  },
  {
   "cell_type": "markdown",
   "metadata": {},
   "source": [
    "# Control loop"
   ]
  },
  {
   "cell_type": "code",
   "execution_count": 168,
   "metadata": {},
   "outputs": [
    {
     "name": "stdout",
     "output_type": "stream",
     "text": [
      "Robot connected\n",
      "Connection closed\n"
     ]
    }
   ],
   "source": [
    "# Joint name in coppelia\n",
    "motor_names = ['Omnirob_FLwheel_motor', 'Omnirob_FRwheel_motor', 'Omnirob_RRwheel_motor', 'Omnirob_RLwheel_motor']\n",
    "r = robot(motor_names)  # Create an instance of our robot\n",
    "\n",
    "time_steps = linspace(0, 230, 2300)\n",
    "\n",
    "for t in time_steps:\n",
    "    if r.client_id == -1:  # Check connection\n",
    "        print('Robot is not connected')\n",
    "        break\n",
    "    elif t < 6.6300:\n",
    "        r.send_motor_velocities([1.00, 1.00, 1.00, 1.00])\n",
    "    # hit red1\n",
    "    elif t < 30.0000:\n",
    "        vx, vy = 5.00, 0\n",
    "        r.send_motor_velocities([vx - vy, -vx - vy, -vx + vy, vx + vy])\n",
    "    elif t < 37.2500:\n",
    "        r.send_motor_velocities([-1.00, -1.00, -1.00, -1.00])\n",
    "    # hit red2\n",
    "    elif t < 49.0000:\n",
    "        vx, vy = 5.00, 0\n",
    "        r.send_motor_velocities([vx - vy, -vx - vy, -vx + vy, vx + vy])\n",
    "    elif t < 56.9000:\n",
    "        r.send_motor_velocities([-1.00, -1.00, -1.00, -1.00])\n",
    "    # hit red3\n",
    "    elif t < 73.0000:\n",
    "        vx, vy = 5.00, 0\n",
    "        r.send_motor_velocities([vx - vy, -vx - vy, -vx + vy, vx + vy])\n",
    "    elif t < 78.6300:\n",
    "        r.send_motor_velocities([1.00, 1.00, 1.00, 1.00])\n",
    "    elif t < 88.5000:\n",
    "        vx, vy = 5.00, 0\n",
    "        r.send_motor_velocities([vx - vy, -vx - vy, -vx + vy, vx + vy])\n",
    "    elif t < 96.5000:\n",
    "        r.send_motor_velocities([1.00, 1.00, 1.00, 1.00])\n",
    "    # hit red4 here\n",
    "    elif t < 113.0000:\n",
    "        vx, vy = 5.00, 0\n",
    "        r.send_motor_velocities([vx - vy, -vx - vy, -vx + vy, vx + vy])\n",
    "    # turn into corner\n",
    "    elif t < 120.5000:\n",
    "        r.send_motor_velocities([-1.00, -1.00, -1.00, -1.00])\n",
    "    elif t < 126.5000:\n",
    "        vx, vy = 5.00, 0\n",
    "        r.send_motor_velocities([vx - vy, -vx - vy, -vx + vy, vx + vy])\n",
    "    # turn towards red5\n",
    "    elif t < 132.6000:\n",
    "        r.send_motor_velocities([-1.00, -1.00, -1.00, -1.00])\n",
    "    # should hit red5 here\n",
    "    elif t < 143.5000:\n",
    "        vx, vy = 5.00, 0\n",
    "        r.send_motor_velocities([vx - vy, -vx - vy, -vx + vy, vx + vy])\n",
    "    # turn towards edge\n",
    "    elif t < 158.5000:\n",
    "        r.send_motor_velocities([1.00, 1.00, 1.00, 1.00])\n",
    "    # hail mary pass\n",
    "    elif t < 169.5000:\n",
    "        vx, vy = 5.00, 0\n",
    "        r.send_motor_velocities([vx - vy, -vx - vy, -vx + vy, vx + vy])\n",
    "    elif t < 176.5000:\n",
    "        r.send_motor_velocities([1.00, 1.00, 1.00, 1.00])\n",
    "    # move back to middle\n",
    "    elif t < 183.0000:\n",
    "        vx, vy = 5.00, 0\n",
    "        r.send_motor_velocities([vx - vy, -vx - vy, -vx + vy, vx + vy])\n",
    "    elif t < 190.0000:\n",
    "        r.send_motor_velocities([-1.00, -1.00, -1.00, -1.00])\n",
    "    elif t < 198.0000:\n",
    "        vx, vy = 5.00, 0\n",
    "        r.send_motor_velocities([vx - vy, -vx - vy, -vx + vy, vx + vy])\n",
    "    elif t < 204.0000:\n",
    "        r.send_motor_velocities([-1.00, -1.00, -1.00, -1.00])\n",
    "    # go up decently far\n",
    "    elif t < 211.5000:\n",
    "        vx, vy = 5.00, 0\n",
    "        r.send_motor_velocities([vx - vy, -vx - vy, -vx + vy, vx + vy])\n",
    "    elif t < 217.2500:\n",
    "        r.send_motor_velocities([1.00, 1.00, 1.00, 1.00])\n",
    "    # hit the sixth one\n",
    "    elif t < 229.0000:\n",
    "        vx, vy = 5.00, 0\n",
    "        r.send_motor_velocities([vx - vy, -vx - vy, -vx + vy, vx + vy])\n",
    "    else:\n",
    "        r.send_motor_velocities([0., 0., 0., 0.])\n",
    "    time.sleep(0.1)\n",
    "\n",
    "    \n",
    "r.send_motor_velocities([0, 0, 0, 0])\n",
    "\n",
    "r.close_connection()  # End"
   ]
  },
  {
   "cell_type": "markdown",
   "metadata": {},
   "source": [
    "# Drone control"
   ]
  },
  {
   "cell_type": "code",
   "execution_count": null,
   "metadata": {},
   "outputs": [],
   "source": [
    "r = robot([], frame_name='Quadricopter_target')\n",
    "r.set_position([5.875,7.89,0.48], 'Cuboid')\n",
    "r.close_connection()"
   ]
  },
  {
   "cell_type": "markdown",
   "metadata": {},
   "source": [
    "### Lets make the drone to follow a circle\n",
    "* Add a primitive shape -> cuboid with the name 'Cuboid'. Then the drone can move around it in circles"
   ]
  },
  {
   "cell_type": "code",
   "execution_count": 75,
   "metadata": {},
   "outputs": [
    {
     "name": "stdout",
     "output_type": "stream",
     "text": [
      "Robot connected\n",
      "Connection closed\n"
     ]
    }
   ],
   "source": [
    "r = robot([], frame_name='Quadricopter_target')\n",
    "\n",
    "time_steps = linspace(0, 90, 900)\n",
    "\n",
    "\n",
    "\n",
    "for t in time_steps:\n",
    "    if r.client_id == -1:  # Check connection\n",
    "        print('Robot is not connected')\n",
    "        break\n",
    "    elif t <= 22:\n",
    "        px, py, pz = 5.875+-0.2*t+0.015960743801652896*t**2+-0.0006902704733283244*t**3, 8.05+-0.5*t+0.0059400826446280915*t**2+0.0001643501126972203*t**3, 0.51+0.02*t+0.001890495867768596*t**2+-3.662659654395193e-05*t**3\n",
    "        r.set_position([px,py,pz], 'Cuboid')\n",
    "    elif t <= 35:\n",
    "        px, py, pz = 1.85+-0.5*(t-22)+-0.022928994082840236*(t-22)**2+0.002162039144287665*(t-22)**3, 2.675+0.0*(t-22)+0.08801775147928995*(t-22)**2+-0.006486117432862995*(t-22)**3, 1.475+0.05*(t-22)+-0.037721893491124266*(t-22)**2+0.002822030040964953*(t-22)**3\n",
    "        r.set_position([px,py,pz], 'Cuboid')\n",
    "    elif t <= 49:\n",
    "        px, py, pz = -3.775+0.0*t+0.0*t**2+0.0*t**3, 3.3+-1.0*(t-35)+0.0*(t-35)**2+0.005102040816326531*(t-35)**3, 2.2+0.5*(t-35)+-0.05089285714285714*(t-35)**2+0.0024234693877551016*(t-35)**3\n",
    "        r.set_position([px,py,pz], 'Cuboid')\n",
    "    elif t <= 60:\n",
    "        px, py, pz = -3.775+0.0*(t-49)+0.08471074380165289*(t-49)**2+0.0003756574004507889*(t-49)**3, 2.5+2.0*(t-49)+-0.32479338842975203*(t-49)**2+0.011419984973703983*(t-49)**3, 5.625+0.5*(t-49)+-0.193801652892562*(t-49)**2+0.010368144252441773*(t-49)**3\n",
    "        r.set_position([px,py,pz], 'Cuboid')\n",
    "    elif t <= 72:\n",
    "        px, py, pz = 6.975+2.0*(t-60)+-0.21562499999999998*(t-60)**2+0.002719907407407407*(t-60)**3, 0.5+-1.0*(t-60)+0.04062500000000001*(t-60)**2+-0.0010995370370370373*(t-60)**3, 1.475+0.0*t+0.0*t**20.0*t**3\n",
    "        r.set_position([px,py,pz], 'Cuboid')\n",
    "    elif t <= 83:\n",
    "        px, py, pz = 4.625+-1.0*(t-72)+0.022727272727272728*(t-72)**2+-0.004132231404958678*(t-72)**3, -7.85+-2.0*(t-72)+0.30785123966942146*(t-72)**2+-0.012321562734785874*(t-72)**3, 1.475+0.0*t+0.0*t**2+0.0*t**3\n",
    "        r.set_position([px,py,pz], 'Cuboid')\n",
    "    else:\n",
    "        time.sleep(0.01)\n",
    "    \n",
    "    time.sleep(0.02)\n",
    "\n",
    "    \n",
    "\n",
    "\n",
    "r.close_connection()  # End"
   ]
  },
  {
   "cell_type": "code",
   "execution_count": null,
   "metadata": {},
   "outputs": [],
   "source": []
  },
  {
   "cell_type": "code",
   "execution_count": null,
   "metadata": {},
   "outputs": [],
   "source": []
  },
  {
   "cell_type": "code",
   "execution_count": null,
   "metadata": {},
   "outputs": [],
   "source": []
  }
 ],
 "metadata": {
  "kernelspec": {
   "display_name": "Python 3",
   "language": "python",
   "name": "python3"
  },
  "language_info": {
   "codemirror_mode": {
    "name": "ipython",
    "version": 3
   },
   "file_extension": ".py",
   "mimetype": "text/x-python",
   "name": "python",
   "nbconvert_exporter": "python",
   "pygments_lexer": "ipython3",
   "version": "3.8.6"
  }
 },
 "nbformat": 4,
 "nbformat_minor": 4
}
